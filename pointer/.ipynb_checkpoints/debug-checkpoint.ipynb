{
 "cells": [
  {
   "cell_type": "code",
   "execution_count": 2,
   "metadata": {
    "scrolled": true
   },
   "outputs": [],
   "source": [
    "import json \n",
    "import os\n",
    "import torch\n",
    "import torch.nn as nn\n",
    "from torch import optim\n",
    "import torch.nn.functional as F\n",
    "import csv\n",
    "import pandas as pd\n",
    "import re\n",
    "import unicodedata\n",
    "import itertools\n",
    "import random\n",
    "from model import EncoderRNN,LuongAttnDecoderRNN,Copy_seq2seq\n",
    "from decoder import GreedySearchDecoder,BeamSearchDecoder\n",
    "from train import Trainer\n",
    "from corpus import Corpus\n",
    "import config\n",
    "\n"
   ]
  },
  {
   "cell_type": "code",
   "execution_count": 3,
   "metadata": {},
   "outputs": [
    {
     "name": "stdout",
     "output_type": "stream",
     "text": [
      "Loading prepared data from ../Conversations/seq+att/data_2.pt ...\n",
      "Number of examples: TRAIN-37876 VALID-2383 TEST-7134\n",
      "Loading prepared vocab from ../Conversations/seq+att/vocab2.pt ...\n",
      "Vocabulary size: 12614\n"
     ]
    }
   ],
   "source": [
    "dataCor = Corpus(config.conv_path,config.wiki_path)\n",
    "dataCor.load()\n",
    "\n",
    "trainData = dataCor.create_batches(config.batch_size,'train')\n",
    "validData = dataCor.create_batches(config.batch_size,'valid')\n",
    "testData = dataCor.create_batches(config.batch_size,'test')"
   ]
  },
  {
   "cell_type": "code",
   "execution_count": 4,
   "metadata": {},
   "outputs": [
    {
     "name": "stdout",
     "output_type": "stream",
     "text": [
      "(tensor([[ 706,   65, 1533,  ...,  560,  560,  560],\n",
      "        [   8,   50, 8393,  ...,   59,  566,  693],\n",
      "        [5174,  373,  725,  ...,   60, 1416, 1671],\n",
      "        ...,\n",
      "        [   0,    0,    0,  ...,    0,  557,    0],\n",
      "        [   0,    0,    0,  ...,    0, 1415,    0],\n",
      "        [   0,    0,    0,  ...,    0,    2,    0]]), tensor([109,  75, 216, 235, 220, 141, 157, 121, 216, 181, 140, 114, 228, 115,\n",
      "        122, 260, 472, 375, 172, 103, 114,  95,  75, 175, 419, 176, 112, 291,\n",
      "        274, 234, 114, 367, 139, 274, 228, 156, 260, 343, 274, 140, 228, 472,\n",
      "        139, 127, 127, 472, 366, 274, 343, 220, 260, 361, 234, 367, 260, 357,\n",
      "        472, 234, 349, 413, 331, 234, 472, 288]), tensor([[ 276,  276,  106,  ...,  106,  276,  106],\n",
      "        [ 875,   19,  276,  ...,   11,   11,   11],\n",
      "        [  84,   84,    8,  ...,    2,    2,    2],\n",
      "        ...,\n",
      "        [2179,   10,    0,  ...,    0,    0,    0],\n",
      "        [  11,   11,    0,  ...,    0,    0,    0],\n",
      "        [   2,    2,    0,  ...,    0,    0,    0]]), tensor([200, 200, 197, 194, 186, 184, 172, 169, 164, 161, 156, 152, 151, 143,\n",
      "        142, 139, 132, 131, 129, 128, 126, 125, 125, 124, 122, 111, 110, 109,\n",
      "        107, 102,  98,  94,  88,  83,  81,  80,  78,  77,  75,  72,  70,  61,\n",
      "         59,  52,  49,  44,  44,  35,  35,  34,  29,  29,  21,  20,  19,  16,\n",
      "         16,  15,  11,   4,   4,   3,   3,   3]), 0, tensor([[ 276,  276,  106,  ...,  106,  276,  106],\n",
      "        [ 875,   19,  276,  ...,   11,   11,   11],\n",
      "        [  84,   84,    8,  ...,    2,    2,    2],\n",
      "        ...,\n",
      "        [2179,   10,    0,  ...,    0,    0,    0],\n",
      "        [  11,   11,    0,  ...,    0,    0,    0],\n",
      "        [   2,    2,    0,  ...,    0,    0,    0]]), tensor([[8206,  247,   12,  ...,  106,    4,  276],\n",
      "        [ 360,   14,   25,  ...,    2,    2,   74],\n",
      "        [   2,  461,  248,  ...,    0,    0,  158],\n",
      "        ...,\n",
      "        [   0,    0,    0,  ...,    0,    0,    0],\n",
      "        [   0,    0,    0,  ...,    0,    0,    0],\n",
      "        [   0,    0,    0,  ...,    0,    0,    0]]), tensor([[1, 1, 1,  ..., 1, 1, 1],\n",
      "        [1, 1, 1,  ..., 1, 1, 1],\n",
      "        [1, 1, 1,  ..., 0, 0, 1],\n",
      "        ...,\n",
      "        [0, 0, 0,  ..., 0, 0, 0],\n",
      "        [0, 0, 0,  ..., 0, 0, 0],\n",
      "        [0, 0, 0,  ..., 0, 0, 0]], dtype=torch.uint8), 30, tensor([[8206,  247,   12,  ...,  106,    4,  276],\n",
      "        [ 360,   14,   25,  ...,    0,    0,   74],\n",
      "        [   0,  461,  248,  ...,    0,    0,  158],\n",
      "        ...,\n",
      "        [   0,    0,    0,  ...,    0,    0,    0],\n",
      "        [   0,    0,    0,  ...,    0,    0,    0],\n",
      "        [   0,    0,    0,  ...,    0,    0,    0]]))\n"
     ]
    }
   ],
   "source": [
    "for d in testData:\n",
    "    print(d)\n",
    "    break"
   ]
  },
  {
   "cell_type": "code",
   "execution_count": null,
   "metadata": {},
   "outputs": [],
   "source": []
  },
  {
   "cell_type": "code",
   "execution_count": null,
   "metadata": {},
   "outputs": [],
   "source": []
  },
  {
   "cell_type": "code",
   "execution_count": null,
   "metadata": {},
   "outputs": [],
   "source": []
  },
  {
   "cell_type": "code",
   "execution_count": null,
   "metadata": {},
   "outputs": [],
   "source": []
  }
 ],
 "metadata": {
  "kernelspec": {
   "display_name": "Python [conda env:torch]",
   "language": "python",
   "name": "conda-env-torch-py"
  },
  "language_info": {
   "codemirror_mode": {
    "name": "ipython",
    "version": 3
   },
   "file_extension": ".py",
   "mimetype": "text/x-python",
   "name": "python",
   "nbconvert_exporter": "python",
   "pygments_lexer": "ipython3",
   "version": "3.6.7"
  }
 },
 "nbformat": 4,
 "nbformat_minor": 2
}
