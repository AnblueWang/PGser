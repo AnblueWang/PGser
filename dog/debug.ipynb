{
 "cells": [
  {
   "cell_type": "code",
   "execution_count": null,
   "metadata": {
    "scrolled": true
   },
   "outputs": [
    {
     "name": "stdout",
     "output_type": "stream",
     "text": [
      "Loading prepared data from ../Conversations/seq+att/data_2.pt ...\n",
      "Number of examples: TRAIN-37876 VALID-2383 TEST-7134\n",
      "Loading prepared vocab from ../Conversations/seq+att/vocab2.pt ...\n",
      "Vocabulary size: 12614\n",
      "Starting Training!\n",
      "Training starts ...\n",
      "Valid Loss:  9.443931720199078\n",
      "\n",
      "=====================================================================================\n",
      "================================== Model Training ===================================\n",
      "=====================================================================================\n",
      "\n",
      "[Train][ 1][100/592]   Average Loss: 6.04191856992011   TIME-0.62\n",
      "[Train][ 1][200/592]   Average Loss: 5.875410187181342   TIME-0.57\n",
      "[Train][ 1][300/592]   Average Loss: 5.938289782615623   TIME-0.65\n",
      "[Train][ 1][400/592]   Average Loss: 5.544121634745829   TIME-0.65\n",
      "\n",
      "--------------------------------- Model Evaulation ---------------------------------\n",
      "[Valid][ 1][400/592]   Valid Loss: 5.70382599918591\n",
      "Saved model state to '../Conversations/seq+att/model/state_epoch_1.model'\n",
      "Saved train state to '../Conversations/seq+att/model/state_epoch_1.train'\n",
      "Saved best model state to '../Conversations/seq+att/model/best.model' with new best valid loss 5.704\n",
      "-------------------------------------------------------------------------------------\n",
      "\n",
      "Generation starts ...\n",
      "Saved generation results to '../Conversations/seq+att/model/valid_1.result'\n",
      "Avg_Len-0.000   Bleu-0.0000/0.0000   Inter_Dist-0.0000/0.0000\n",
      "Target:   AVG_LEN-10.935   Inter_Dist-0.0970/0.4931\n",
      "[Train][ 1][500/592]   Average Loss: 5.796383101579755   TIME-0.64\n",
      "Saved model state to '../Conversations/seq+att/model/state_epoch_1.model'\n",
      "Saved train state to '../Conversations/seq+att/model/state_epoch_1.train'\n",
      "\n",
      "=====================================================================================\n",
      "================================== Model Training ===================================\n",
      "=====================================================================================\n",
      "\n",
      "[Train][ 2][100/592]   Average Loss: 5.722879722339428   TIME-0.63\n",
      "[Train][ 2][200/592]   Average Loss: 5.48553116766432   TIME-0.62\n",
      "[Train][ 2][300/592]   Average Loss: 5.736014189590614   TIME-0.65\n",
      "[Train][ 2][400/592]   Average Loss: 5.712619577262966   TIME-0.63\n",
      "\n",
      "--------------------------------- Model Evaulation ---------------------------------\n",
      "[Valid][ 2][400/592]   Valid Loss: 5.585083839958689\n",
      "Saved model state to '../Conversations/seq+att/model/state_epoch_2.model'\n",
      "Saved train state to '../Conversations/seq+att/model/state_epoch_2.train'\n",
      "Saved best model state to '../Conversations/seq+att/model/best.model' with new best valid loss 5.585\n",
      "-------------------------------------------------------------------------------------\n",
      "\n",
      "Generation starts ...\n",
      "Saved generation results to '../Conversations/seq+att/model/valid_2.result'\n",
      "Avg_Len-0.000   Bleu-0.0000/0.0000   Inter_Dist-0.0000/0.0000\n",
      "Target:   AVG_LEN-10.935   Inter_Dist-0.0970/0.4931\n",
      "[Train][ 2][500/592]   Average Loss: 5.735946032026095   TIME-0.61\n"
     ]
    }
   ],
   "source": [
    "%run main.py"
   ]
  },
  {
   "cell_type": "code",
   "execution_count": null,
   "metadata": {},
   "outputs": [],
   "source": []
  },
  {
   "cell_type": "code",
   "execution_count": null,
   "metadata": {},
   "outputs": [],
   "source": []
  },
  {
   "cell_type": "code",
   "execution_count": null,
   "metadata": {},
   "outputs": [],
   "source": []
  },
  {
   "cell_type": "code",
   "execution_count": null,
   "metadata": {},
   "outputs": [],
   "source": []
  },
  {
   "cell_type": "code",
   "execution_count": null,
   "metadata": {},
   "outputs": [],
   "source": []
  },
  {
   "cell_type": "code",
   "execution_count": null,
   "metadata": {},
   "outputs": [],
   "source": []
  },
  {
   "cell_type": "code",
   "execution_count": null,
   "metadata": {},
   "outputs": [],
   "source": []
  },
  {
   "cell_type": "code",
   "execution_count": null,
   "metadata": {},
   "outputs": [],
   "source": []
  }
 ],
 "metadata": {
  "kernelspec": {
   "display_name": "Python [conda env:torch]",
   "language": "python",
   "name": "conda-env-torch-py"
  },
  "language_info": {
   "codemirror_mode": {
    "name": "ipython",
    "version": 3
   },
   "file_extension": ".py",
   "mimetype": "text/x-python",
   "name": "python",
   "nbconvert_exporter": "python",
   "pygments_lexer": "ipython3",
   "version": "3.6.7"
  }
 },
 "nbformat": 4,
 "nbformat_minor": 2
}
